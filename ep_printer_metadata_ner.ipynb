{
 "cells": [
  {
   "attachments": {},
   "cell_type": "markdown",
   "metadata": {},
   "source": [
    "## spaCy Notebook\n",
    "\n",
    "Here is the notebook that will perform Named Entity Recognition using the spaCy module on the not-parsed data set\n"
   ]
  },
  {
   "attachments": {},
   "cell_type": "markdown",
   "metadata": {},
   "source": [
    "### Understanding spaCy\n",
    "Ultimately it will be useful to use spaCy to find names in the publication statements, but first it is important to see what information spaCy can tell us.\n",
    "<br><br>\n",
    "Namely, the *labels* of the *entities*. *Labels* being the type of entity, in the example below the labels are PERSON, ORG, DATE etc. Entities are the nouns or information that the model recognizes as unique and specific. In the below example: Sebastian Thrun, Google, 2007 etc. This is different from any noun such as \"companies\" or \"CEOs\" which are not specific *Named Entities* and therefore not picked up by the model.\n",
    "<br><br>\n",
    "Example from spaCy website:<br>\n",
    "text= <br>\n",
    "(\"When Sebastian Thrun started working on self-driving cars at \"<br>\n",
    "  \"Google in 2007, few people outside of the company took him \"<br>\n",
    "  \"seriously. “I can tell you very senior CEOs of major American \"<br>\n",
    "  \"car companies would shake my hand and turn away because I wasn’t \"<br>\n",
    "  \"worth talking to,” said Thrun, in an interview with Recode earlier \"<br>\n",
    "  \"this week.\")<br>\n",
    "  <br>\n",
    "Entity, Label:\n",
    "* Sebastian Thrun, PERSON\n",
    "* Google, ORG\n",
    "* 2007, DATE\n",
    "* American, NORP\n",
    "* Thrun, PERSON\n",
    "* Recode, ORG\n",
    "* earlier this week, DATE"
   ]
  },
  {
   "cell_type": "code",
   "execution_count": 9,
   "metadata": {},
   "outputs": [],
   "source": [
    "# Import Necessary Modules\n",
    "import pandas as pd\n",
    "import spacy\n",
    "import re\n",
    "import matplotlib.pyplot as plt\n",
    "from collections import Counter\n",
    "# Load spaCy Model\n",
    "# requires installing the model with python -m spacy download en_core_web_sm\n",
    "nlp = spacy.load(\"en_core_web_sm\")\n",
    "\n",
    "#define path for dataframe\n",
    "printers_data_file_pubstmt_notparsed = 'data/printers_etc_pubstmt_notparsed.csv'\n",
    "#create Dataframe\n",
    "pubstmt_df = pd.read_csv(printers_data_file_pubstmt_notparsed)"
   ]
  },
  {
   "cell_type": "code",
   "execution_count": null,
   "metadata": {},
   "outputs": [],
   "source": [
    "pubstmt_df"
   ]
  },
  {
   "attachments": {},
   "cell_type": "markdown",
   "metadata": {},
   "source": [
    "### First Steps\n",
    "\n",
    "It will be useful to figure out what labels are in the publication statements\n",
    "<br><br>\n",
    "The below code does this"
   ]
  },
  {
   "cell_type": "code",
   "execution_count": null,
   "metadata": {},
   "outputs": [],
   "source": [
    "# Define function to print entity labels\n",
    "def return_entity_labels(text):\n",
    "    doc = nlp(text)\n",
    "    label_list = []\n",
    "    for ent in doc.ents:\n",
    "        label_list.append((ent.label_, ent.text))\n",
    "    return label_list\n",
    "# Print entity labels for each row in pubstmt_df['pubStmt']\n",
    "for stmt in pubstmt_df['pubStmt'][:100]:\n",
    "    print(return_entity_labels(stmt))"
   ]
  },
  {
   "cell_type": "code",
   "execution_count": null,
   "metadata": {},
   "outputs": [],
   "source": [
    "#it will also be useful to get a list of all labels\n",
    "def get_entity_labels(text):\n",
    "    doc = nlp(text)\n",
    "    labels = set([ent.label_ for ent in doc.ents])\n",
    "    return labels\n",
    "\n",
    "all_labels = set()\n",
    "\n",
    "# Loop through the 'pubStmt' column and add the entity labels to the set\n",
    "for stmt in pubstmt_df['pubStmt']:\n",
    "    labels = get_entity_labels(stmt)\n",
    "    all_labels.update(labels)\n",
    "\n",
    "# Print the set of all unique entity labels\n",
    "print(all_labels)"
   ]
  },
  {
   "attachments": {},
   "cell_type": "markdown",
   "metadata": {},
   "source": [
    "## Next Step\n",
    "\n",
    "The results from the first tests show that the labels we have in our Publication Statements are: <br>'CARDINAL', 'DATE', 'EVENT', 'FAC', 'GPE', 'LANGUAGE', 'LAW', 'LOC', 'MONEY', 'NORP', 'ORDINAL', 'ORG', 'PERSON', 'PRODUCT', 'QUANTITY', 'WORK_OF_ART'<br>\n",
    "The possible labels are: <br> 'CARDINAL', 'DATE', 'EVENT', 'FAC', 'GPE', 'LANGUAGE', 'LAW', 'LOC', 'MONEY', 'NORP', 'ORDINAL', 'ORG', *'PERCENT'*, 'PERSON', 'PRODUCT', 'QUANTITY', *'TIME'*, 'WORK_OF_ART'\n",
    "\n",
    "Also, while spaCy is mostly accurate it sometimes confuses labels, for example:\n",
    "* Antwerp was labeled as a Person\n",
    "* XXIX was labeled as a Person\n",
    "* CCCC was labeled as a Geo-political Entity\n",
    "* Wylliam Caxton was labeled as an Organization\n",
    "\n",
    "These errors will be important to address in the future, but next step is to add a column in the dataframe for all named entities that could be the publisher."
   ]
  },
  {
   "attachments": {},
   "cell_type": "markdown",
   "metadata": {},
   "source": [
    "## Create a Helper Function\n",
    "This Function takes:\n",
    "* a statement to search for names in\n",
    "* and a Named Entity Recognition Model that can test for names\n",
    "\n",
    "This Function will be used to extract the names"
   ]
  },
  {
   "cell_type": "code",
   "execution_count": null,
   "metadata": {},
   "outputs": [],
   "source": [
    "#Define a Function for Name Extraction\n",
    "def extract_names(statement, ner_model):\n",
    "    ner_in_statement = ner_model(statement) \n",
    "    return [ent.text for ent in ner_in_statement.ents if ent.label_ in [\"PERSON\"]]"
   ]
  },
  {
   "cell_type": "code",
   "execution_count": null,
   "metadata": {},
   "outputs": [],
   "source": [
    "pubstmt_df['namedEntities'] = pubstmt_df['pubStmt'].apply(extract_names, ner_model=nlp)\n",
    "pubstmt_df['namedEntities']"
   ]
  },
  {
   "attachments": {},
   "cell_type": "markdown",
   "metadata": {},
   "source": [
    "## \"Printed by\" statements\n",
    "In a preliminary exploration of the data the most common pubstatement includes one of the following search strings: \"printed by\", \"printed for\", \"printed, by\", \"printed, for\",\"prentyd by\",\"enprynted by\", or \"imprinted by\". The below code demonstrates how many statements include"
   ]
  },
  {
   "cell_type": "code",
   "execution_count": 10,
   "metadata": {},
   "outputs": [
    {
     "name": "stdout",
     "output_type": "stream",
     "text": [
      "Number of matches: 9265\n",
      "Number of publication statements: 11376\n",
      "Percent matches: 81.443%\n"
     ]
    }
   ],
   "source": [
    "# concatenate all statements into a single string\n",
    "all_statements = ' '.join(pubstmt_df['pubStmt'])\n",
    "\n",
    "# define a list of search strings\n",
    "search_strings = [\"printed by\", \"printed for\", \"printed, by\", \"printed, for\",\"prentyd by\",\"enprynted by\", \"imprinted by\"]\n",
    "\n",
    "# compile a regular expression pattern to match any of the search strings\n",
    "pattern = re.compile('({0})'.format('|'.join(search_strings)), re.IGNORECASE)\n",
    "\n",
    "# find all matches of the pattern in the concatenated statements\n",
    "matches = pattern.findall(all_statements)\n",
    "\n",
    "# count the number of matches\n",
    "match_count = len(matches)\n",
    "\n",
    "# print the result\n",
    "print(f'Number of matches: {match_count}')\n",
    "print(f'Number of publication statements: {pubstmt_df.shape[0]}')\n",
    "print(f'Percent matches: {match_count/pubstmt_df.shape[0]*100:.3f}%')"
   ]
  },
  {
   "cell_type": "code",
   "execution_count": null,
   "metadata": {},
   "outputs": [],
   "source": []
  },
  {
   "attachments": {},
   "cell_type": "markdown",
   "metadata": {},
   "source": [
    "## Investigating these statements\n",
    "\n",
    "In the majority of these statements the next word is \"the\" followed by a word that describes who is printing the work  <br>\n",
    "e.g. \"**Printed by** *the* **Societie** of Stationers...\"<br>\n",
    "In this example the societie of stationers are the printers and they are, as expected, notated right after the \"printed by\" and the formula statement <br>\n",
    "So it will be helpful to see the most common words that follow this statement as it will consitently describe the printers for 81.44% of this dataset. <br>\n",
    "The below plot does this and finds that the following words are the most common words in these statements:\n",
    "* widow\n",
    "* heir\n",
    "  * heirs\n",
    "  * Heir\n",
    "* deputies\n",
    "* Society\n",
    "  * Societie of Stationers\n",
    "* assigns\n",
    "  * assignes\n",
    "  * Assigns\n",
    "* successors\n",
    "* Printers to the V/University/ie of...\n",
    "  * printers\n",
    "* Kings most excellent Majestie\n",
    "* generall sataisfaction of...\n",
    "* author\n",
    "* use\n"
   ]
  },
  {
   "cell_type": "code",
   "execution_count": 11,
   "metadata": {},
   "outputs": [
    {
     "data": {
      "image/png": "[encoded data removed]",
      "text/plain": [
       "<Figure size 800x600 with 1 Axes>"
      ]
     },
     "metadata": {},
     "output_type": "display_data"
    }
   ],
   "source": [
    "# search strings\n",
    "search_strings = [\"printed by\", \"printed for\", \"printed, by\", \"printed, for\",\"prentyd by\",\"enprynted by\", \"imprinted by\"]\n",
    "\n",
    "words_list = []\n",
    "# iterate over search strings and search for them in pubStmt column\n",
    "for search_str in search_strings:\n",
    "    mask = pubstmt_df['pubStmt'].str.contains(search_str, case=False)\n",
    "    if mask.any():\n",
    "        # if a match is found, extract the three words after the search string and print them\n",
    "        pubStmt_filtered = pubstmt_df[mask]['pubStmt']\n",
    "        for pubStmt in pubStmt_filtered:\n",
    "            search_str_idx = pubStmt.lower().index(search_str)\n",
    "            words_after = pubStmt[search_str_idx+len(search_str):].split()\n",
    "            if words_after[0] == 'the' or words_after[0] == 'The':\n",
    "                words_list.append(words_after[1])\n",
    "            #print(f\"{search_str} {' '.join(words_after[:3])}\")\n",
    "words_counter = Counter(words_list)\n",
    "cutoff = 10\n",
    "words_counter = {word: count for word,count in words_counter.items() if count>=cutoff}\n",
    "words_list, count_list = zip(*words_counter.items())\n",
    "words_list=list(words_list)\n",
    "\n",
    "plt.figure(figsize=(8,6))\n",
    "\n",
    "plt.bar(words_list, count_list)\n",
    "plt.xticks(rotation=45)\n",
    "plt.show()\n"
   ]
  }
 ],
 "metadata": {
  "kernelspec": {
   "display_name": "Python 3",
   "language": "python",
   "name": "python3"
  },
  "language_info": {
   "codemirror_mode": {
    "name": "ipython",
    "version": 3
   },
   "file_extension": ".py",
   "mimetype": "text/x-python",
   "name": "python",
   "nbconvert_exporter": "python",
   "pygments_lexer": "ipython3",
   "version": "3.11.0"
  },
  "orig_nbformat": 4
 },
 "nbformat": 4,
 "nbformat_minor": 2
}
